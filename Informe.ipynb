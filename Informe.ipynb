{
 "cells": [
  {
   "cell_type": "markdown",
   "id": "4b8bb307",
   "metadata": {},
   "source": [
    "# Informe "
   ]
  },
  {
   "cell_type": "markdown",
   "id": "4a487157",
   "metadata": {},
   "source": [
    "1) Ejercicio 1    "
   ]
  },
  {
   "cell_type": "code",
   "execution_count": 1,
   "id": "28894459",
   "metadata": {},
   "outputs": [],
   "source": [
    "import matplotlib.pyplot as plt\n",
    "import numpy as np"
   ]
  },
  {
   "cell_type": "markdown",
   "id": "ee7a1326",
   "metadata": {},
   "source": [
    "* Implementar un Generador Congruencial Lineal (GCL) de módulo 2 32, multiplicador 1013904223, incremento de 1664525 y semilla igual a la parte entera del promedio de los números de padrón de los integrantes del grupo."
   ]
  },
  {
   "cell_type": "code",
   "execution_count": 2,
   "id": "66c41e68",
   "metadata": {},
   "outputs": [
    {
     "name": "stdout",
     "output_type": "stream",
     "text": [
      "3312200771.0\n",
      "2852875264.0\n",
      "1507490304.0\n",
      "637185024.0\n",
      "4049811968.0\n",
      "2952391680.0\n",
      "4040948224.0\n",
      "2617846784.0\n",
      "2219096576.0\n"
     ]
    }
   ],
   "source": [
    "multiplicador = 1013904223\n",
    "incremento = 1664525\n",
    "modulo = pow(2,32)\n",
    "\n",
    "def gcl_a(x):\n",
    "    return (multiplicador * x + incremento) % modulo\n",
    "\n",
    "semilla = ((102140 + 102361 + 102216 + 98316) / 4 ) - 0.25\n",
    "\n",
    "v = semilla\n",
    "for i in range(1, 10):\n",
    "    v = gcl_a(v)\n",
    "    print(v)"
   ]
  },
  {
   "cell_type": "markdown",
   "id": "3d7ebab0",
   "metadata": {},
   "source": [
    "* Modificar el GCL implementado en el punto a) para que devuelva números al azar entre 0 y 1"
   ]
  },
  {
   "cell_type": "code",
   "execution_count": 33,
   "id": "405adb00",
   "metadata": {},
   "outputs": [
    {
     "name": "stdout",
     "output_type": "stream",
     "text": [
      "0.7711818376023281\n",
      "0.664236784135978\n",
      "0.35098993786400884\n",
      "0.14835619929906824\n",
      "0.9429203274061252\n",
      "0.687407255332779\n",
      "0.9408565761849416\n",
      "0.6095149518478464\n",
      "0.5166736842404757\n"
     ]
    }
   ],
   "source": [
    "cota = 4294967295\n",
    "def gcl_b(x):\n",
    "    if x<1: x = x * cota\n",
    "    return gcl_a(x) / cota\n",
    "\n",
    "v = semilla\n",
    "for i in range(1, 10):\n",
    "    v = gcl_b(v)\n",
    "    print(v)"
   ]
  },
  {
   "cell_type": "markdown",
   "id": "000ad28f",
   "metadata": {},
   "source": [
    "* Realizar los gráficos que considere necesarios para mostrar las distribuciones de números al azar generados en los puntos a) y b)"
   ]
  },
  {
   "cell_type": "code",
   "execution_count": 40,
   "id": "45d3b413",
   "metadata": {},
   "outputs": [
    {
     "data": {
      "image/png": "[encoded data removed]",
      "text/plain": [
       "<Figure size 660x440 with 1 Axes>"
      ]
     },
     "metadata": {
      "needs_background": "light"
     },
     "output_type": "display_data"
    }
   ],
   "source": [
    "plt.figure( dpi=110)\n",
    "\n",
    "m=10000\n",
    "nros_a=[]\n",
    "nros_b=[]\n",
    "v= semilla\n",
    "\n",
    "for i in range(0,m):\n",
    "    v = gcl_a(v)\n",
    "    nros_a.append(v)\n",
    "    \n",
    "plt.hist(nros_a,10,align=\"left\",rwidth=0.8,density=True)\n",
    "\n",
    "plt.ylabel(\"eje ye\")\n",
    "plt.xlabel(\"EJE X\")\n",
    "plt.title('¿TITULO?')\n",
    "plt.show()\n"
   ]
  },
  {
   "cell_type": "code",
   "execution_count": 42,
   "id": "2e16306b",
   "metadata": {},
   "outputs": [
    {
     "data": {
      "image/png": "[encoded data removed]",
      "text/plain": [
       "<Figure size 432x288 with 1 Axes>"
      ]
     },
     "metadata": {
      "needs_background": "light"
     },
     "output_type": "display_data"
    }
   ],
   "source": [
    "plt.figure( dpi=110)\n",
    "m=10000\n",
    "nros_b=[]\n",
    "v = semilla\n",
    "\n",
    "for i in range(0,m):\n",
    "    v = gcl_b(v)\n",
    "    nros_b.append(v)\n",
    "    \n",
    "plt.hist(nros_b,10,align=\"left\",rwidth=0.8,density=True)\n",
    "plt.ylabel(\"eje ye\")\n",
    "plt.xlabel(\"EJE X\")\n",
    "plt.title('¿TITULO?')\n",
    "plt.show()"
   ]
  },
  {
   "cell_type": "markdown",
   "id": "e5a7f7de",
   "metadata": {},
   "source": [
    "* Basándose en el generador implementado en el ítem a, implemente el generador aditivo propuesto por Mitchell y Moore 𝑥𝑖+1 = ( 𝑥𝑖−24 + 𝑥𝑖−55) 𝑚𝑜𝑑 2 24\n",
    "    Donde 𝑥0,𝑥1, … , 𝑥54 son números arbitrarios no todos iguales."
   ]
  },
  {
   "cell_type": "code",
   "execution_count": 62,
   "id": "dc9d9977",
   "metadata": {},
   "outputs": [
    {
     "name": "stdout",
     "output_type": "stream",
     "text": [
      "3102787.0\n",
      "5645824.0\n",
      "3991040.0\n",
      "1975808.0\n",
      "7661056.0\n",
      "15083008.0\n",
      "11331072.0\n",
      "11412992.0\n",
      "15001088.0\n"
     ]
    }
   ],
   "source": [
    "m=55\n",
    "nros=[]\n",
    "v = semilla\n",
    "\n",
    "for i in range(0,m):\n",
    "    v = gcl_a(v)\n",
    "    nros.append(v)\n",
    "\n",
    "def agregacion_por_Mitchell_Moore(array):\n",
    "    v = (array[len(array) - 32] + array[len(array) - 55]) % pow(2, 24)\n",
    "    array.append(v)\n",
    "    return v\n",
    "\n",
    "\n",
    "for i in range(1, 10):\n",
    "    print(agregacion_por_Mitchell_Moore(nros))"
   ]
  },
  {
   "cell_type": "markdown",
   "id": "f2db41b6",
   "metadata": {},
   "source": [
    "* Ejercicio 2\n"
   ]
  },
  {
   "cell_type": "markdown",
   "id": "c2e33c99",
   "metadata": {},
   "source": [
    "* Para cada uno de los generadores del ejercicio 1, proponer, y realizar, al menos 2 tests para evaluar su comportamiento. \n",
    "* Evaluar e interpretar los resultados de cada uno para distintos tamaños de muestras."
   ]
  },
  {
   "cell_type": "code",
   "execution_count": null,
   "id": "7a0a4040",
   "metadata": {},
   "outputs": [],
   "source": []
  }
 ],
 "metadata": {
  "kernelspec": {
   "display_name": "Python 3",
   "language": "python",
   "name": "python3"
  },
  "language_info": {
   "codemirror_mode": {
    "name": "ipython",
    "version": 3
   },
   "file_extension": ".py",
   "mimetype": "text/x-python",
   "name": "python",
   "nbconvert_exporter": "python",
   "pygments_lexer": "ipython3",
   "version": "3.8.5"
  }
 },
 "nbformat": 4,
 "nbformat_minor": 5
}
