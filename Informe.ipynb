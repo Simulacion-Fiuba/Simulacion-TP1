{
 "cells": [
  {
   "cell_type": "markdown",
   "id": "345233bd",
   "metadata": {},
   "source": [
    "# Informe TP1"
   ]
  },
  {
   "cell_type": "markdown",
   "id": "99d0c163",
   "metadata": {},
   "source": [
    "1) Ejercicio 1    "
   ]
  },
  {
   "cell_type": "code",
   "execution_count": 1,
   "id": "221f0b82",
   "metadata": {},
   "outputs": [],
   "source": [
    "import matplotlib.pyplot as plt\n",
    "import numpy as np"
   ]
  },
  {
   "cell_type": "markdown",
   "id": "95dbbcc1",
   "metadata": {},
   "source": [
    "* Implementar un Generador Congruencial Lineal (GCL) de módulo 2 32, multiplicador 1013904223, incremento de 1664525 y semilla igual a la parte entera del promedio de los números de padrón de los integrantes del grupo."
   ]
  },
  {
   "cell_type": "code",
   "execution_count": 2,
   "id": "91b36fb2",
   "metadata": {},
   "outputs": [
    {
     "name": "stdout",
     "output_type": "stream",
     "text": [
      "3312200771.0\n",
      "2852875264.0\n",
      "1507490304.0\n",
      "637185024.0\n",
      "4049811968.0\n",
      "2952391680.0\n",
      "4040948224.0\n",
      "2617846784.0\n",
      "2219096576.0\n"
     ]
    }
   ],
   "source": [
    "multiplicador = 1013904223\n",
    "incremento = 1664525\n",
    "modulo = pow(2,32)\n",
    "\n",
    "def gcl_a(x):\n",
    "    return (multiplicador * x + incremento) % modulo\n",
    "\n",
    "semilla = ((102140 + 102361 + 102216 + 98316) / 4 ) - 0.25\n",
    "\n",
    "v = semilla\n",
    "for i in range(1, 10):\n",
    "    v = gcl_a(v)\n",
    "    print(v)"
   ]
  },
  {
   "cell_type": "markdown",
   "id": "3744f326",
   "metadata": {},
   "source": [
    "* Modificar el GCL implementado en el punto a) para que devuelva números al azar entre 0 y 1"
   ]
  },
  {
   "cell_type": "code",
   "execution_count": 3,
   "id": "eaadfaec",
   "metadata": {},
   "outputs": [
    {
     "name": "stdout",
     "output_type": "stream",
     "text": [
      "0.7711818376023281\n",
      "0.664236784135978\n",
      "0.35098993786400884\n",
      "0.14835619929906824\n",
      "0.9429203274061252\n",
      "0.687407255332779\n",
      "0.9408565761849416\n",
      "0.6095149518478464\n",
      "0.5166736842404757\n"
     ]
    }
   ],
   "source": [
    "cota = 4294967295\n",
    "def gcl_b(x):\n",
    "    if x<1: x = x * cota\n",
    "    return gcl_a(x) / cota\n",
    "\n",
    "v = semilla\n",
    "for i in range(1, 10):\n",
    "    v = gcl_b(v)\n",
    "    print(v)"
   ]
  },
  {
   "cell_type": "markdown",
   "id": "49b3cc9d",
   "metadata": {},
   "source": [
    "* Realizar los gráficos que considere necesarios para mostrar las distribuciones de números al azar generados en los puntos a) y b)"
   ]
  },
  {
   "cell_type": "code",
   "execution_count": 4,
   "id": "cbf27ff6",
   "metadata": {},
   "outputs": [
    {
     "data": {
      "image/png": "[encoded data removed]",
      "text/plain": [
       "<Figure size 660x440 with 1 Axes>"
      ]
     },
     "metadata": {
      "needs_background": "light"
     },
     "output_type": "display_data"
    }
   ],
   "source": [
    "plt.figure( dpi=110)\n",
    "\n",
    "m=10000\n",
    "nros_a=[]\n",
    "nros_b=[]\n",
    "v= semilla\n",
    "\n",
    "for i in range(0,m):\n",
    "    v = gcl_a(v)\n",
    "    nros_a.append(v)\n",
    "    \n",
    "plt.hist(nros_a,10,align=\"left\",rwidth=0.8,density=True)\n",
    "\n",
    "plt.ylabel(\"eje ye\")\n",
    "plt.xlabel(\"EJE X\")\n",
    "plt.title('¿TITULO?')\n",
    "plt.show()\n"
   ]
  },
  {
   "cell_type": "code",
   "execution_count": 5,
   "id": "097c7fab",
   "metadata": {},
   "outputs": [
    {
     "data": {
      "image/png": "[encoded data removed]",
      "text/plain": [
       "<Figure size 660x440 with 1 Axes>"
      ]
     },
     "metadata": {
      "needs_background": "light"
     },
     "output_type": "display_data"
    }
   ],
   "source": [
    "plt.figure( dpi=110)\n",
    "m=10000\n",
    "nros_b=[]\n",
    "v = semilla\n",
    "\n",
    "for i in range(0,m):\n",
    "    v = gcl_b(v)\n",
    "    nros_b.append(v)\n",
    "    \n",
    "plt.hist(nros_b,10,align=\"left\",rwidth=0.8,density=True)\n",
    "plt.ylabel(\"eje ye\")\n",
    "plt.xlabel(\"EJE X\")\n",
    "plt.title('¿TITULO?')\n",
    "plt.show()"
   ]
  },
  {
   "cell_type": "markdown",
   "id": "87943942",
   "metadata": {},
   "source": [
    "* Basándose en el generador implementado en el ítem a, implemente el generador aditivo propuesto por Mitchell y Moore 𝑥𝑖+1 = ( 𝑥𝑖−24 + 𝑥𝑖−55) 𝑚𝑜𝑑 2 24\n",
    "    Donde 𝑥0,𝑥1, … , 𝑥54 son números arbitrarios no todos iguales."
   ]
  },
  {
   "cell_type": "code",
   "execution_count": 6,
   "id": "c114d235",
   "metadata": {},
   "outputs": [
    {
     "name": "stdout",
     "output_type": "stream",
     "text": [
      "3102787.0\n",
      "5645824.0\n",
      "3991040.0\n",
      "1975808.0\n",
      "7661056.0\n",
      "15083008.0\n",
      "11331072.0\n",
      "11412992.0\n",
      "15001088.0\n"
     ]
    }
   ],
   "source": [
    "m=55\n",
    "nros=[]\n",
    "v = semilla\n",
    "\n",
    "for i in range(0,m):\n",
    "    v = gcl_a(v)\n",
    "    nros.append(v)\n",
    "\n",
    "def agregacion_por_Mitchell_Moore(array):\n",
    "    v = (array[len(array) - 32] + array[len(array) - 55]) % pow(2, 24)\n",
    "    array.append(v)\n",
    "    return v\n",
    "\n",
    "\n",
    "for i in range(1, 10):\n",
    "    print(agregacion_por_Mitchell_Moore(nros))"
   ]
  },
  {
   "cell_type": "markdown",
   "id": "74d1a59e",
   "metadata": {},
   "source": [
    "* Ejercicio 2\n",
    "\n",
    "    Para cada uno de los generadores del ejercicio 1, proponer, y realizar, al menos 2 tests para evaluar su comportamiento. \n",
    "    Evaluar e interpretar los resultados de cada uno para distintos tamaños de muestras."
   ]
  },
  {
   "cell_type": "code",
   "execution_count": null,
   "id": "df0bee46",
   "metadata": {},
   "outputs": [],
   "source": []
  },
  {
   "cell_type": "markdown",
   "id": "018b5f87",
   "metadata": {},
   "source": [
    "* Ejercicio 3\n",
    "\n",
    "    Se desea generar puntos al azar con distribución uniforme dentro del área descripta en el gráfico utilizando los siguientes\n",
    "    generadores de números al azar:\n",
    "    a) Generadores de números al azar con distribución uniforme, provistos por el lenguaje elegido para resolver el tp\n",
    "    b) Alguno de los generadores de números al azar implementados con el algoritmo del ejercicio 1.\n",
    "    c) Calcule el factor de rendimiento del método."
   ]
  },
  {
   "cell_type": "code",
   "execution_count": 7,
   "id": "229efda5",
   "metadata": {},
   "outputs": [
    {
     "data": {
      "text/plain": [
       "[(6.499404071033491, 12.092058381784916),\n",
       " (9.313471214993001, 5.707541957951906),\n",
       " (11.753404423111379, 12.80965808511917),\n",
       " (9.15388257157026, 6.52392670844206),\n",
       " (7.164752082904994, 7.713765906203371),\n",
       " (10.58292469063473, 10.318729419242741),\n",
       " (8.239392394144048, 12.797318362742455),\n",
       " (5.299553203257872, 9.125847946377283),\n",
       " (11.60096191741513, 12.035696296559255)]"
      ]
     },
     "execution_count": 7,
     "metadata": {},
     "output_type": "execute_result"
    }
   ],
   "source": [
    "nros = []\n",
    "for i in range(1, 10):    \n",
    "    x = np.random.uniform(low=5, high=15)\n",
    "    y = np.random.uniform(low=5, high=15)\n",
    "    if pow(x-10, 2)+pow(y-10,2)<=25:\n",
    "        nros.append((x, y))\n",
    "        \n",
    "nros"
   ]
  },
  {
   "cell_type": "markdown",
   "id": "5ea0f76c",
   "metadata": {},
   "source": [
    "* Ejercicio 4\n",
    "\n",
    "    Para la siguiente densidad de probabilidad, se pide:"
   ]
  },
  {
   "attachments": {
    "78ae8894-3a8c-40ac-8330-d648a9022bfb.png": {
     "image/png": "[encoded data removed]"
    }
   },
   "cell_type": "markdown",
   "id": "8f90149c",
   "metadata": {},
   "source": [
    "![image.png](attachment:78ae8894-3a8c-40ac-8330-d648a9022bfb.png)"
   ]
  },
  {
   "cell_type": "markdown",
   "id": "9e5249b5",
   "metadata": {},
   "source": [
    "* Definir la función de densidad de probabilidad."
   ]
  },
  {
   "cell_type": "markdown",
   "id": "824a0635",
   "metadata": {},
   "source": [
    "La funcion de densidad de probabilidad es: \n",
    "    f(x) =  0                 si 0 <= x < 1\n",
    "            (1/15 x - 1/15)   si 1 <= x < 4\n",
    "            (-2/45 x + 17/45) si 4 <= x < 6\n",
    "            1/9               si 6 <  x < 9\n",
    "            (-1/9 x + 10/9)   si 9 <  x < 10"
   ]
  },
  {
   "cell_type": "markdown",
   "id": "ceeb7675",
   "metadata": {},
   "source": [
    "* Calcular y graficar la función de probabilidad acumulada y su inversa."
   ]
  },
  {
   "cell_type": "code",
   "execution_count": null,
   "id": "ac87e3ad",
   "metadata": {},
   "outputs": [],
   "source": []
  },
  {
   "cell_type": "markdown",
   "id": "eef66bb3",
   "metadata": {},
   "source": [
    "* Utilizando el generador de números aleatorios implementado en el ítem b del ejercicio 1, genere números al azar\n",
    "con la distribución propuesta."
   ]
  },
  {
   "cell_type": "code",
   "execution_count": null,
   "id": "ab053217",
   "metadata": {},
   "outputs": [],
   "source": []
  },
  {
   "cell_type": "markdown",
   "id": "ace34805",
   "metadata": {},
   "source": [
    "* Realice los gráficos que considere necesarios para mostrar la distribución de números al azar generados."
   ]
  },
  {
   "cell_type": "code",
   "execution_count": null,
   "id": "f1298aa8",
   "metadata": {},
   "outputs": [],
   "source": []
  }
 ],
 "metadata": {
  "kernelspec": {
   "display_name": "Python 3",
   "language": "python",
   "name": "python3"
  },
  "language_info": {
   "codemirror_mode": {
    "name": "ipython",
    "version": 3
   },
   "file_extension": ".py",
   "mimetype": "text/x-python",
   "name": "python",
   "nbconvert_exporter": "python",
   "pygments_lexer": "ipython3",
   "version": "3.8.5"
  }
 },
 "nbformat": 4,
 "nbformat_minor": 5
}
